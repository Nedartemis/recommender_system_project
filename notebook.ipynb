{
 "cells": [
  {
   "cell_type": "markdown",
   "metadata": {},
   "source": [
    "# Movie Pairing Recommender System"
   ]
  },
  {
   "cell_type": "markdown",
   "metadata": {
    "vscode": {
     "languageId": "plaintext"
    }
   },
   "source": [
    "## Imports"
   ]
  },
  {
   "cell_type": "code",
   "execution_count": 1,
   "metadata": {},
   "outputs": [
    {
     "name": "stdout",
     "output_type": "stream",
     "text": [
      "/home/secouss/repos/recommender_system_project/.venv/bin/python3\n"
     ]
    }
   ],
   "source": [
    "!which python3"
   ]
  },
  {
   "cell_type": "code",
   "execution_count": 2,
   "metadata": {},
   "outputs": [],
   "source": [
    "import os\n",
    "from typing import List, Dict\n",
    "\n",
    "import numpy as np\n",
    "import pandas as pd\n",
    "import scipy.sparse\n",
    "import sklearn.cluster\n",
    "import sklearn.feature_extraction.text\n",
    "import sklearn.model_selection\n",
    "import sklearn.metrics\n",
    "from tqdm import tqdm"
   ]
  },
  {
   "cell_type": "markdown",
   "metadata": {},
   "source": [
    "## 1. Data Collection and Preprocessing"
   ]
  },
  {
   "cell_type": "markdown",
   "metadata": {},
   "source": [
    "### Load the MovieLens datasets"
   ]
  },
  {
   "cell_type": "code",
   "execution_count": 3,
   "metadata": {},
   "outputs": [],
   "source": [
    "DIR_DATA = \"./data/ml-latest-small/\""
   ]
  },
  {
   "cell_type": "code",
   "execution_count": 4,
   "metadata": {},
   "outputs": [
    {
     "data": {
      "text/html": [
       "<div>\n",
       "<style scoped>\n",
       "    .dataframe tbody tr th:only-of-type {\n",
       "        vertical-align: middle;\n",
       "    }\n",
       "\n",
       "    .dataframe tbody tr th {\n",
       "        vertical-align: top;\n",
       "    }\n",
       "\n",
       "    .dataframe thead th {\n",
       "        text-align: right;\n",
       "    }\n",
       "</style>\n",
       "<table border=\"1\" class=\"dataframe\">\n",
       "  <thead>\n",
       "    <tr style=\"text-align: right;\">\n",
       "      <th></th>\n",
       "      <th>movieId</th>\n",
       "      <th>title</th>\n",
       "      <th>genres</th>\n",
       "    </tr>\n",
       "  </thead>\n",
       "  <tbody>\n",
       "    <tr>\n",
       "      <th>0</th>\n",
       "      <td>1</td>\n",
       "      <td>Toy Story (1995)</td>\n",
       "      <td>Adventure|Animation|Children|Comedy|Fantasy</td>\n",
       "    </tr>\n",
       "    <tr>\n",
       "      <th>1</th>\n",
       "      <td>2</td>\n",
       "      <td>Jumanji (1995)</td>\n",
       "      <td>Adventure|Children|Fantasy</td>\n",
       "    </tr>\n",
       "    <tr>\n",
       "      <th>2</th>\n",
       "      <td>3</td>\n",
       "      <td>Grumpier Old Men (1995)</td>\n",
       "      <td>Comedy|Romance</td>\n",
       "    </tr>\n",
       "    <tr>\n",
       "      <th>3</th>\n",
       "      <td>4</td>\n",
       "      <td>Waiting to Exhale (1995)</td>\n",
       "      <td>Comedy|Drama|Romance</td>\n",
       "    </tr>\n",
       "    <tr>\n",
       "      <th>4</th>\n",
       "      <td>5</td>\n",
       "      <td>Father of the Bride Part II (1995)</td>\n",
       "      <td>Comedy</td>\n",
       "    </tr>\n",
       "    <tr>\n",
       "      <th>...</th>\n",
       "      <td>...</td>\n",
       "      <td>...</td>\n",
       "      <td>...</td>\n",
       "    </tr>\n",
       "    <tr>\n",
       "      <th>9737</th>\n",
       "      <td>193581</td>\n",
       "      <td>Black Butler: Book of the Atlantic (2017)</td>\n",
       "      <td>Action|Animation|Comedy|Fantasy</td>\n",
       "    </tr>\n",
       "    <tr>\n",
       "      <th>9738</th>\n",
       "      <td>193583</td>\n",
       "      <td>No Game No Life: Zero (2017)</td>\n",
       "      <td>Animation|Comedy|Fantasy</td>\n",
       "    </tr>\n",
       "    <tr>\n",
       "      <th>9739</th>\n",
       "      <td>193585</td>\n",
       "      <td>Flint (2017)</td>\n",
       "      <td>Drama</td>\n",
       "    </tr>\n",
       "    <tr>\n",
       "      <th>9740</th>\n",
       "      <td>193587</td>\n",
       "      <td>Bungo Stray Dogs: Dead Apple (2018)</td>\n",
       "      <td>Action|Animation</td>\n",
       "    </tr>\n",
       "    <tr>\n",
       "      <th>9741</th>\n",
       "      <td>193609</td>\n",
       "      <td>Andrew Dice Clay: Dice Rules (1991)</td>\n",
       "      <td>Comedy</td>\n",
       "    </tr>\n",
       "  </tbody>\n",
       "</table>\n",
       "<p>9742 rows × 3 columns</p>\n",
       "</div>"
      ],
      "text/plain": [
       "      movieId                                      title  \\\n",
       "0           1                           Toy Story (1995)   \n",
       "1           2                             Jumanji (1995)   \n",
       "2           3                    Grumpier Old Men (1995)   \n",
       "3           4                   Waiting to Exhale (1995)   \n",
       "4           5         Father of the Bride Part II (1995)   \n",
       "...       ...                                        ...   \n",
       "9737   193581  Black Butler: Book of the Atlantic (2017)   \n",
       "9738   193583               No Game No Life: Zero (2017)   \n",
       "9739   193585                               Flint (2017)   \n",
       "9740   193587        Bungo Stray Dogs: Dead Apple (2018)   \n",
       "9741   193609        Andrew Dice Clay: Dice Rules (1991)   \n",
       "\n",
       "                                           genres  \n",
       "0     Adventure|Animation|Children|Comedy|Fantasy  \n",
       "1                      Adventure|Children|Fantasy  \n",
       "2                                  Comedy|Romance  \n",
       "3                            Comedy|Drama|Romance  \n",
       "4                                          Comedy  \n",
       "...                                           ...  \n",
       "9737              Action|Animation|Comedy|Fantasy  \n",
       "9738                     Animation|Comedy|Fantasy  \n",
       "9739                                        Drama  \n",
       "9740                             Action|Animation  \n",
       "9741                                       Comedy  \n",
       "\n",
       "[9742 rows x 3 columns]"
      ]
     },
     "execution_count": 4,
     "metadata": {},
     "output_type": "execute_result"
    }
   ],
   "source": [
    "movies = pd.read_csv(os.path.join(DIR_DATA, \"movies.csv\"))\n",
    "movies"
   ]
  },
  {
   "cell_type": "code",
   "execution_count": 5,
   "metadata": {},
   "outputs": [
    {
     "data": {
      "text/html": [
       "<div>\n",
       "<style scoped>\n",
       "    .dataframe tbody tr th:only-of-type {\n",
       "        vertical-align: middle;\n",
       "    }\n",
       "\n",
       "    .dataframe tbody tr th {\n",
       "        vertical-align: top;\n",
       "    }\n",
       "\n",
       "    .dataframe thead th {\n",
       "        text-align: right;\n",
       "    }\n",
       "</style>\n",
       "<table border=\"1\" class=\"dataframe\">\n",
       "  <thead>\n",
       "    <tr style=\"text-align: right;\">\n",
       "      <th></th>\n",
       "      <th>userId</th>\n",
       "      <th>movieId</th>\n",
       "      <th>rating</th>\n",
       "      <th>timestamp</th>\n",
       "    </tr>\n",
       "  </thead>\n",
       "  <tbody>\n",
       "    <tr>\n",
       "      <th>0</th>\n",
       "      <td>1</td>\n",
       "      <td>1</td>\n",
       "      <td>4.0</td>\n",
       "      <td>964982703</td>\n",
       "    </tr>\n",
       "    <tr>\n",
       "      <th>1</th>\n",
       "      <td>1</td>\n",
       "      <td>3</td>\n",
       "      <td>4.0</td>\n",
       "      <td>964981247</td>\n",
       "    </tr>\n",
       "    <tr>\n",
       "      <th>2</th>\n",
       "      <td>1</td>\n",
       "      <td>6</td>\n",
       "      <td>4.0</td>\n",
       "      <td>964982224</td>\n",
       "    </tr>\n",
       "    <tr>\n",
       "      <th>3</th>\n",
       "      <td>1</td>\n",
       "      <td>47</td>\n",
       "      <td>5.0</td>\n",
       "      <td>964983815</td>\n",
       "    </tr>\n",
       "    <tr>\n",
       "      <th>4</th>\n",
       "      <td>1</td>\n",
       "      <td>50</td>\n",
       "      <td>5.0</td>\n",
       "      <td>964982931</td>\n",
       "    </tr>\n",
       "    <tr>\n",
       "      <th>...</th>\n",
       "      <td>...</td>\n",
       "      <td>...</td>\n",
       "      <td>...</td>\n",
       "      <td>...</td>\n",
       "    </tr>\n",
       "    <tr>\n",
       "      <th>100831</th>\n",
       "      <td>610</td>\n",
       "      <td>166534</td>\n",
       "      <td>4.0</td>\n",
       "      <td>1493848402</td>\n",
       "    </tr>\n",
       "    <tr>\n",
       "      <th>100832</th>\n",
       "      <td>610</td>\n",
       "      <td>168248</td>\n",
       "      <td>5.0</td>\n",
       "      <td>1493850091</td>\n",
       "    </tr>\n",
       "    <tr>\n",
       "      <th>100833</th>\n",
       "      <td>610</td>\n",
       "      <td>168250</td>\n",
       "      <td>5.0</td>\n",
       "      <td>1494273047</td>\n",
       "    </tr>\n",
       "    <tr>\n",
       "      <th>100834</th>\n",
       "      <td>610</td>\n",
       "      <td>168252</td>\n",
       "      <td>5.0</td>\n",
       "      <td>1493846352</td>\n",
       "    </tr>\n",
       "    <tr>\n",
       "      <th>100835</th>\n",
       "      <td>610</td>\n",
       "      <td>170875</td>\n",
       "      <td>3.0</td>\n",
       "      <td>1493846415</td>\n",
       "    </tr>\n",
       "  </tbody>\n",
       "</table>\n",
       "<p>100836 rows × 4 columns</p>\n",
       "</div>"
      ],
      "text/plain": [
       "        userId  movieId  rating   timestamp\n",
       "0            1        1     4.0   964982703\n",
       "1            1        3     4.0   964981247\n",
       "2            1        6     4.0   964982224\n",
       "3            1       47     5.0   964983815\n",
       "4            1       50     5.0   964982931\n",
       "...        ...      ...     ...         ...\n",
       "100831     610   166534     4.0  1493848402\n",
       "100832     610   168248     5.0  1493850091\n",
       "100833     610   168250     5.0  1494273047\n",
       "100834     610   168252     5.0  1493846352\n",
       "100835     610   170875     3.0  1493846415\n",
       "\n",
       "[100836 rows x 4 columns]"
      ]
     },
     "execution_count": 5,
     "metadata": {},
     "output_type": "execute_result"
    }
   ],
   "source": [
    "ratings = pd.read_csv(os.path.join(DIR_DATA, \"ratings.csv\"))\n",
    "ratings"
   ]
  },
  {
   "cell_type": "markdown",
   "metadata": {},
   "source": [
    "### Stats"
   ]
  },
  {
   "cell_type": "code",
   "execution_count": 8,
   "metadata": {},
   "outputs": [
    {
     "data": {
      "text/plain": [
       "count    100836.000000\n",
       "mean          3.501557\n",
       "std           1.042529\n",
       "min           0.500000\n",
       "25%           3.000000\n",
       "50%           3.500000\n",
       "75%           4.000000\n",
       "max           5.000000\n",
       "Name: rating, dtype: float64"
      ]
     },
     "execution_count": 8,
     "metadata": {},
     "output_type": "execute_result"
    }
   ],
   "source": [
    "ratings[\"rating\"].describe()"
   ]
  },
  {
   "cell_type": "markdown",
   "metadata": {},
   "source": [
    "## 2. Feature Engineering"
   ]
  },
  {
   "cell_type": "markdown",
   "metadata": {},
   "source": [
    "### Extract relevant features (try genres, directors, cast, and ratings)"
   ]
  },
  {
   "cell_type": "markdown",
   "metadata": {},
   "source": [
    "### Create a user-item interaction matrix for collaborative filtering"
   ]
  },
  {
   "cell_type": "code",
   "execution_count": 27,
   "metadata": {},
   "outputs": [
    {
     "data": {
      "text/plain": [
       "array([2949, 3703, 3729, 3793,  151,  157,  163,  216,  231,  260])"
      ]
     },
     "execution_count": 27,
     "metadata": {},
     "output_type": "execute_result"
    }
   ],
   "source": [
    "def get_fav_movies_of_user(ratings : pd.DataFrame, user_id : int, n : int) -> List[int]:\n",
    "    \"\"\"Get the n favorites movies of an user according the ratings\"\"\"\n",
    "    return ratings[ratings[\"userId\"] == user_id].sort_values(by=\"rating\", ascending=False).iloc[:n,:][\"movieId\"].values\n",
    "\n",
    "def get_users(df : pd.DataFrame) -> List[int]:\n",
    "    \"\"\"Get all the users\"\"\"\n",
    "    return df[\"userId\"].sort_values().unique()\n",
    "\n",
    "# create a mapping beetween movie id and their index in the interaction matrix \n",
    "movie_id_to_index = {movie_id : index for index, movie_id in enumerate(ratings[\"movieId\"].unique())}\n",
    "\n",
    "get_fav_movies_of_user(ratings, 1, 10)"
   ]
  },
  {
   "cell_type": "code",
   "execution_count": 73,
   "metadata": {},
   "outputs": [
    {
     "name": "stderr",
     "output_type": "stream",
     "text": [
      "100%|██████████| 610/610 [00:00<00:00, 2465.67it/s]\n"
     ]
    },
    {
     "data": {
      "text/plain": [
       "(610, 9724)"
      ]
     },
     "execution_count": 73,
     "metadata": {},
     "output_type": "execute_result"
    }
   ],
   "source": [
    "def create_user_item_interaction_matrix_with_only_ratings_only(ratings : pd.DataFrame, movie_id_to_index : Dict[int, int], verbose : bool=False, n : int =100):\n",
    "    \"\"\"Create a user-item interaction matrix for collaborative filtering.\n",
    "    Only the ratings are used as features.\n",
    "    The n favorites movies represent 1 and other values are 0.\n",
    "\n",
    "    Returns:\n",
    "        A sparse matrix. 1 if a movie is part of the favorites movies of the user, 0 otherwise.\n",
    "    \"\"\"\n",
    "\n",
    "    # get all the users\n",
    "    users = get_users(ratings)\n",
    "    \n",
    "    # get the favorites move of each user\n",
    "    fav_movies = [\n",
    "        get_fav_movies_of_user(ratings, user_id, n)\n",
    "        for user_id in tqdm(users, total=users.shape[0], disable=not verbose)\n",
    "    ]\n",
    "    \n",
    "    X = np.zeros((len(fav_movies), len(movie_id_to_index)))\n",
    "    for index, fav_movies in enumerate(fav_movies):\n",
    "        for movie_id in fav_movies:\n",
    "            X[index, movie_id_to_index[movie_id]] = 1\n",
    "\n",
    "    return scipy.sparse.csr_matrix(X)\n",
    "\n",
    "X = create_user_item_interaction_matrix_with_only_ratings_only(ratings, movie_id_to_index, verbose=True)\n",
    "X.shape"
   ]
  },
  {
   "cell_type": "markdown",
   "metadata": {},
   "source": [
    "## 3. Model Development (predict the rating of a movie by a couple of users)"
   ]
  },
  {
   "cell_type": "markdown",
   "metadata": {},
   "source": [
    "### Kmeans"
   ]
  },
  {
   "cell_type": "code",
   "execution_count": 29,
   "metadata": {},
   "outputs": [
    {
     "name": "stderr",
     "output_type": "stream",
     "text": [
      "100%|██████████| 19/19 [00:00<00:00, 37.73it/s]\n"
     ]
    },
    {
     "data": {
      "text/plain": [
       "<Axes: xlabel='k_values'>"
      ]
     },
     "execution_count": 29,
     "metadata": {},
     "output_type": "execute_result"
    },
    {
     "data": {
      "image/png": "[encoded data removed]",
      "text/plain": [
       "<Figure size 640x480 with 1 Axes>"
      ]
     },
     "metadata": {},
     "output_type": "display_data"
    }
   ],
   "source": [
    "# we are searching a good k for the dataset\n",
    "\n",
    "k_values = list(range(1, 20))\n",
    "wcss = [\n",
    "    sklearn.cluster.KMeans(n_clusters=k).fit(X).inertia_\n",
    "    for k in tqdm(k_values)\n",
    "]\n",
    "\n",
    "pd.DataFrame({\"wcss\" : wcss, \"k_values\": k_values}).plot.line(x=\"k_values\", y=\"wcss\")"
   ]
  },
  {
   "cell_type": "markdown",
   "metadata": {},
   "source": [
    "15 seems to be a good number of clusters"
   ]
  },
  {
   "cell_type": "code",
   "execution_count": 30,
   "metadata": {},
   "outputs": [],
   "source": [
    "kmeans = sklearn.cluster.KMeans(n_clusters=15).fit(X)"
   ]
  },
  {
   "cell_type": "code",
   "execution_count": 31,
   "metadata": {},
   "outputs": [
    {
     "data": {
      "text/html": [
       "<div>\n",
       "<style scoped>\n",
       "    .dataframe tbody tr th:only-of-type {\n",
       "        vertical-align: middle;\n",
       "    }\n",
       "\n",
       "    .dataframe tbody tr th {\n",
       "        vertical-align: top;\n",
       "    }\n",
       "\n",
       "    .dataframe thead th {\n",
       "        text-align: right;\n",
       "    }\n",
       "</style>\n",
       "<table border=\"1\" class=\"dataframe\">\n",
       "  <thead>\n",
       "    <tr style=\"text-align: right;\">\n",
       "      <th>cluster</th>\n",
       "      <th>0</th>\n",
       "      <th>1</th>\n",
       "      <th>2</th>\n",
       "      <th>3</th>\n",
       "      <th>4</th>\n",
       "      <th>5</th>\n",
       "      <th>6</th>\n",
       "      <th>7</th>\n",
       "      <th>8</th>\n",
       "      <th>9</th>\n",
       "      <th>10</th>\n",
       "      <th>11</th>\n",
       "      <th>12</th>\n",
       "      <th>13</th>\n",
       "      <th>14</th>\n",
       "    </tr>\n",
       "  </thead>\n",
       "  <tbody>\n",
       "    <tr>\n",
       "      <th>count</th>\n",
       "      <td>1</td>\n",
       "      <td>66</td>\n",
       "      <td>95</td>\n",
       "      <td>2</td>\n",
       "      <td>1</td>\n",
       "      <td>90</td>\n",
       "      <td>9</td>\n",
       "      <td>37</td>\n",
       "      <td>54</td>\n",
       "      <td>63</td>\n",
       "      <td>188</td>\n",
       "      <td>1</td>\n",
       "      <td>1</td>\n",
       "      <td>1</td>\n",
       "      <td>1</td>\n",
       "    </tr>\n",
       "  </tbody>\n",
       "</table>\n",
       "</div>"
      ],
      "text/plain": [
       "cluster  0   1   2   3   4   5   6   7   8   9    10  11  12  13  14\n",
       "count     1  66  95   2   1  90   9  37  54  63  188   1   1   1   1"
      ]
     },
     "execution_count": 31,
     "metadata": {},
     "output_type": "execute_result"
    }
   ],
   "source": [
    "def create_model() -> sklearn.cluster.KMeans:\n",
    "    return sklearn.cluster.KMeans(n_clusters=15, init=\"k-means++\") \n",
    "\n",
    "def train_model(kmeans, X) -> None:\n",
    "    kmeans.fit(X.astype(np.int32))\n",
    "\n",
    "def compute_clusters(kmeans, X) -> pd.DataFrame:\n",
    "    \"\"\"Compute the clusters of each user\n",
    "\n",
    "    Args:\n",
    "        kmeans: Kmeans model\n",
    "        X: user-item interaction matrix\n",
    "    \"\"\"\n",
    "    clusters = kmeans.predict(X)\n",
    "    return pd.DataFrame({\"userId\": get_users(ratings), \"cluster\" : clusters})\n",
    "\n",
    "kmeans = create_model()\n",
    "train_model(kmeans, X)\n",
    "\n",
    "clusters = compute_clusters(kmeans, X)\n",
    "clusters.groupby(by=\"cluster\").count().rename(columns={\"userId\": \"count\"}).T"
   ]
  },
  {
   "cell_type": "code",
   "execution_count": 32,
   "metadata": {},
   "outputs": [
    {
     "data": {
      "text/html": [
       "<div>\n",
       "<style scoped>\n",
       "    .dataframe tbody tr th:only-of-type {\n",
       "        vertical-align: middle;\n",
       "    }\n",
       "\n",
       "    .dataframe tbody tr th {\n",
       "        vertical-align: top;\n",
       "    }\n",
       "\n",
       "    .dataframe thead th {\n",
       "        text-align: right;\n",
       "    }\n",
       "</style>\n",
       "<table border=\"1\" class=\"dataframe\">\n",
       "  <thead>\n",
       "    <tr style=\"text-align: right;\">\n",
       "      <th></th>\n",
       "      <th>cluster</th>\n",
       "      <th>movieId</th>\n",
       "      <th>rating</th>\n",
       "    </tr>\n",
       "  </thead>\n",
       "  <tbody>\n",
       "    <tr>\n",
       "      <th>0</th>\n",
       "      <td>0</td>\n",
       "      <td>1</td>\n",
       "      <td>3.0</td>\n",
       "    </tr>\n",
       "    <tr>\n",
       "      <th>1</th>\n",
       "      <td>0</td>\n",
       "      <td>10</td>\n",
       "      <td>4.5</td>\n",
       "    </tr>\n",
       "    <tr>\n",
       "      <th>2</th>\n",
       "      <td>0</td>\n",
       "      <td>50</td>\n",
       "      <td>4.5</td>\n",
       "    </tr>\n",
       "    <tr>\n",
       "      <th>3</th>\n",
       "      <td>0</td>\n",
       "      <td>62</td>\n",
       "      <td>3.0</td>\n",
       "    </tr>\n",
       "    <tr>\n",
       "      <th>4</th>\n",
       "      <td>0</td>\n",
       "      <td>110</td>\n",
       "      <td>4.0</td>\n",
       "    </tr>\n",
       "    <tr>\n",
       "      <th>...</th>\n",
       "      <td>...</td>\n",
       "      <td>...</td>\n",
       "      <td>...</td>\n",
       "    </tr>\n",
       "    <tr>\n",
       "      <th>28278</th>\n",
       "      <td>14</td>\n",
       "      <td>130576</td>\n",
       "      <td>2.0</td>\n",
       "    </tr>\n",
       "    <tr>\n",
       "      <th>28279</th>\n",
       "      <td>14</td>\n",
       "      <td>135133</td>\n",
       "      <td>4.0</td>\n",
       "    </tr>\n",
       "    <tr>\n",
       "      <th>28280</th>\n",
       "      <td>14</td>\n",
       "      <td>164909</td>\n",
       "      <td>2.5</td>\n",
       "    </tr>\n",
       "    <tr>\n",
       "      <th>28281</th>\n",
       "      <td>14</td>\n",
       "      <td>165549</td>\n",
       "      <td>1.5</td>\n",
       "    </tr>\n",
       "    <tr>\n",
       "      <th>28282</th>\n",
       "      <td>14</td>\n",
       "      <td>166528</td>\n",
       "      <td>4.0</td>\n",
       "    </tr>\n",
       "  </tbody>\n",
       "</table>\n",
       "<p>28283 rows × 3 columns</p>\n",
       "</div>"
      ],
      "text/plain": [
       "       cluster  movieId  rating\n",
       "0            0        1     3.0\n",
       "1            0       10     4.5\n",
       "2            0       50     4.5\n",
       "3            0       62     3.0\n",
       "4            0      110     4.0\n",
       "...        ...      ...     ...\n",
       "28278       14   130576     2.0\n",
       "28279       14   135133     4.0\n",
       "28280       14   164909     2.5\n",
       "28281       14   165549     1.5\n",
       "28282       14   166528     4.0\n",
       "\n",
       "[28283 rows x 3 columns]"
      ]
     },
     "execution_count": 32,
     "metadata": {},
     "output_type": "execute_result"
    }
   ],
   "source": [
    "def compute_clusters_ratings(clusters : pd.DataFrame, ratings : pd.DataFrame) -> pd.DataFrame:\n",
    "    \"\"\"Compute ratings of each clusters by computing the mean of the user's ratings for each clusters\"\"\"\n",
    "\n",
    "    return pd.merge(left=clusters, right=ratings, on=\"userId\", validate=\"1:m\").groupby(by=[\"cluster\", \"movieId\"]).agg({\"rating\": \"mean\"}).reset_index()\n",
    "\n",
    "clusters_ratings = compute_clusters_ratings(clusters, ratings)\n",
    "clusters_ratings"
   ]
  },
  {
   "cell_type": "code",
   "execution_count": 33,
   "metadata": {},
   "outputs": [
    {
     "name": "stdout",
     "output_type": "stream",
     "text": [
      "Cluster's users is : 9\n"
     ]
    },
    {
     "data": {
      "text/plain": [
       "2.4"
      ]
     },
     "execution_count": 33,
     "metadata": {},
     "output_type": "execute_result"
    }
   ],
   "source": [
    "def compute_cluster_group_of_user(\n",
    "    ratings: pd.DataFrame, kmeans: sklearn.cluster.KMeans, users_id: List[int], verbose : bool =False\n",
    ") -> int:\n",
    "    \"\"\"Compute the cluster of a group of user with the kmeans model and their ratings.\n",
    "    The group of user is represented as one user by merging their ratings.\n",
    "\n",
    "    Returns:\n",
    "        int: The user's cluster\n",
    "    \"\"\"\n",
    "\n",
    "    # merge their ratings\n",
    "    users_ratings = ratings[ratings[\"userId\"].isin(users_id)].copy()\n",
    "\n",
    "    # new user id to reprensent the couple (or more people) as a user\n",
    "    users_ratings[\"userId\"] = 0\n",
    "\n",
    "    # create user item interation matrix\n",
    "    X = create_user_item_interaction_matrix_with_only_ratings_only(\n",
    "        users_ratings, movie_id_to_index, verbose=verbose\n",
    "    )\n",
    "\n",
    "    # predict the cluster of this couple\n",
    "    cluster = kmeans.predict(X)[0]\n",
    "\n",
    "    return cluster\n",
    "\n",
    "def get_default_rating_prediction(ratings : pd.DataFrame, movie_id : int) -> float:\n",
    "    \"\"\"Get the average rating of a movie\"\"\"\n",
    "    return ratings[ratings[\"movieId\"] == movie_id].mean()\n",
    "\n",
    "def predict_rating(\n",
    "    ratings: pd.DataFrame,\n",
    "    kmeans: sklearn.cluster.KMeans,\n",
    "    clusters_ratings: pd.DataFrame,\n",
    "    movie_id: int,\n",
    "    users_id: List[int],\n",
    "    verbose: bool = False,\n",
    ") -> float:\n",
    "    \"\"\"Predict the rating of a movie by a couple of users (at least one user and more if wanted).\n",
    "\n",
    "    Returns:\n",
    "        float: The rating of the movie\n",
    "    \"\"\"\n",
    "\n",
    "    log = print if verbose else lambda _: None\n",
    "\n",
    "    cluster = compute_cluster_group_of_user(ratings, kmeans, users_id)\n",
    "    log(f\"Cluster's users is : {cluster}\")\n",
    "\n",
    "    # get the cluster ratings\n",
    "    cluster_ratings = clusters_ratings[clusters_ratings[\"cluster\"] == cluster]\n",
    "\n",
    "    # get the rate of the movie given\n",
    "    movie_ratings = cluster_ratings[cluster_ratings[\"movieId\"] == movie_id]\n",
    "    if movie_ratings.shape[0] > 0:\n",
    "        # should have only one rating\n",
    "        rate = movie_ratings.iloc[0, :][\"rating\"]\n",
    "    else:\n",
    "        log(\"The movie has not been rated by the cluster\")\n",
    "        log(cluster_ratings[\"movieId\"].sort_values().unique())\n",
    "        log(cluster_ratings[cluster_ratings[\"movieId\"] == movie_id])\n",
    "        rate = get_default_rating_prediction(ratings, movie_id)\n",
    "\n",
    "    return rate\n",
    "\n",
    "predict_rating(ratings, kmeans, clusters_ratings, 5, [1, 2], verbose=True)"
   ]
  },
  {
   "cell_type": "code",
   "execution_count": 34,
   "metadata": {},
   "outputs": [
    {
     "data": {
      "text/html": [
       "<div>\n",
       "<style scoped>\n",
       "    .dataframe tbody tr th:only-of-type {\n",
       "        vertical-align: middle;\n",
       "    }\n",
       "\n",
       "    .dataframe tbody tr th {\n",
       "        vertical-align: top;\n",
       "    }\n",
       "\n",
       "    .dataframe thead th {\n",
       "        text-align: right;\n",
       "    }\n",
       "</style>\n",
       "<table border=\"1\" class=\"dataframe\">\n",
       "  <thead>\n",
       "    <tr style=\"text-align: right;\">\n",
       "      <th></th>\n",
       "      <th>movieId</th>\n",
       "      <th>rating</th>\n",
       "    </tr>\n",
       "  </thead>\n",
       "  <tbody>\n",
       "    <tr>\n",
       "      <th>0</th>\n",
       "      <td>1</td>\n",
       "      <td>3.920930</td>\n",
       "    </tr>\n",
       "    <tr>\n",
       "      <th>1</th>\n",
       "      <td>2</td>\n",
       "      <td>3.431818</td>\n",
       "    </tr>\n",
       "    <tr>\n",
       "      <th>2</th>\n",
       "      <td>3</td>\n",
       "      <td>3.259615</td>\n",
       "    </tr>\n",
       "    <tr>\n",
       "      <th>3</th>\n",
       "      <td>4</td>\n",
       "      <td>2.357143</td>\n",
       "    </tr>\n",
       "    <tr>\n",
       "      <th>4</th>\n",
       "      <td>5</td>\n",
       "      <td>3.071429</td>\n",
       "    </tr>\n",
       "    <tr>\n",
       "      <th>...</th>\n",
       "      <td>...</td>\n",
       "      <td>...</td>\n",
       "    </tr>\n",
       "    <tr>\n",
       "      <th>9719</th>\n",
       "      <td>193581</td>\n",
       "      <td>4.000000</td>\n",
       "    </tr>\n",
       "    <tr>\n",
       "      <th>9720</th>\n",
       "      <td>193583</td>\n",
       "      <td>3.500000</td>\n",
       "    </tr>\n",
       "    <tr>\n",
       "      <th>9721</th>\n",
       "      <td>193585</td>\n",
       "      <td>3.500000</td>\n",
       "    </tr>\n",
       "    <tr>\n",
       "      <th>9722</th>\n",
       "      <td>193587</td>\n",
       "      <td>3.500000</td>\n",
       "    </tr>\n",
       "    <tr>\n",
       "      <th>9723</th>\n",
       "      <td>193609</td>\n",
       "      <td>4.000000</td>\n",
       "    </tr>\n",
       "  </tbody>\n",
       "</table>\n",
       "<p>9724 rows × 2 columns</p>\n",
       "</div>"
      ],
      "text/plain": [
       "      movieId    rating\n",
       "0           1  3.920930\n",
       "1           2  3.431818\n",
       "2           3  3.259615\n",
       "3           4  2.357143\n",
       "4           5  3.071429\n",
       "...       ...       ...\n",
       "9719   193581  4.000000\n",
       "9720   193583  3.500000\n",
       "9721   193585  3.500000\n",
       "9722   193587  3.500000\n",
       "9723   193609  4.000000\n",
       "\n",
       "[9724 rows x 2 columns]"
      ]
     },
     "execution_count": 34,
     "metadata": {},
     "output_type": "execute_result"
    }
   ],
   "source": [
    "def get_default_ratings_prediction(ratings : pd.DataFrame) -> pd.DataFrame:\n",
    "    \"\"\"Same as 'get_default_rating_prediction' but for every movie.\n",
    "    Used when a movie has not been rated by a user or a cluster. \n",
    "\n",
    "    Returns:\n",
    "        pd.DataFrame: The average rating of each movie.\n",
    "    \"\"\"\n",
    "    return ratings.groupby(by=\"movieId\").agg({\"rating\": \"mean\"}).reset_index()\n",
    "\n",
    "default_predictions = get_default_ratings_prediction(ratings)\n",
    "default_predictions"
   ]
  },
  {
   "cell_type": "code",
   "execution_count": 59,
   "metadata": {},
   "outputs": [
    {
     "data": {
      "text/html": [
       "<div>\n",
       "<style scoped>\n",
       "    .dataframe tbody tr th:only-of-type {\n",
       "        vertical-align: middle;\n",
       "    }\n",
       "\n",
       "    .dataframe tbody tr th {\n",
       "        vertical-align: top;\n",
       "    }\n",
       "\n",
       "    .dataframe thead th {\n",
       "        text-align: right;\n",
       "    }\n",
       "</style>\n",
       "<table border=\"1\" class=\"dataframe\">\n",
       "  <thead>\n",
       "    <tr style=\"text-align: right;\">\n",
       "      <th></th>\n",
       "      <th>movieId</th>\n",
       "      <th>rating</th>\n",
       "    </tr>\n",
       "  </thead>\n",
       "  <tbody>\n",
       "    <tr>\n",
       "      <th>19228</th>\n",
       "      <td>1</td>\n",
       "      <td>4.000000</td>\n",
       "    </tr>\n",
       "    <tr>\n",
       "      <th>19229</th>\n",
       "      <td>2</td>\n",
       "      <td>3.075000</td>\n",
       "    </tr>\n",
       "    <tr>\n",
       "      <th>19230</th>\n",
       "      <td>3</td>\n",
       "      <td>3.045455</td>\n",
       "    </tr>\n",
       "    <tr>\n",
       "      <th>19231</th>\n",
       "      <td>5</td>\n",
       "      <td>2.400000</td>\n",
       "    </tr>\n",
       "    <tr>\n",
       "      <th>19232</th>\n",
       "      <td>6</td>\n",
       "      <td>3.958333</td>\n",
       "    </tr>\n",
       "    <tr>\n",
       "      <th>...</th>\n",
       "      <td>...</td>\n",
       "      <td>...</td>\n",
       "    </tr>\n",
       "    <tr>\n",
       "      <th>9719</th>\n",
       "      <td>193581</td>\n",
       "      <td>4.000000</td>\n",
       "    </tr>\n",
       "    <tr>\n",
       "      <th>9720</th>\n",
       "      <td>193583</td>\n",
       "      <td>3.500000</td>\n",
       "    </tr>\n",
       "    <tr>\n",
       "      <th>9721</th>\n",
       "      <td>193585</td>\n",
       "      <td>3.500000</td>\n",
       "    </tr>\n",
       "    <tr>\n",
       "      <th>9722</th>\n",
       "      <td>193587</td>\n",
       "      <td>3.500000</td>\n",
       "    </tr>\n",
       "    <tr>\n",
       "      <th>9723</th>\n",
       "      <td>193609</td>\n",
       "      <td>4.000000</td>\n",
       "    </tr>\n",
       "  </tbody>\n",
       "</table>\n",
       "<p>9724 rows × 2 columns</p>\n",
       "</div>"
      ],
      "text/plain": [
       "       movieId    rating\n",
       "19228        1  4.000000\n",
       "19229        2  3.075000\n",
       "19230        3  3.045455\n",
       "19231        5  2.400000\n",
       "19232        6  3.958333\n",
       "...        ...       ...\n",
       "9719    193581  4.000000\n",
       "9720    193583  3.500000\n",
       "9721    193585  3.500000\n",
       "9722    193587  3.500000\n",
       "9723    193609  4.000000\n",
       "\n",
       "[9724 rows x 2 columns]"
      ]
     },
     "execution_count": 59,
     "metadata": {},
     "output_type": "execute_result"
    }
   ],
   "source": [
    "def predict_all_ratings(\n",
    "    ratings: pd.DataFrame,\n",
    "    kmeans: sklearn.cluster.KMeans,\n",
    "    clusters_ratings: pd.DataFrame,\n",
    "    users_id: List[int],\n",
    "    default_predictions : pd.DataFrame\n",
    ") -> pd.DataFrame:\n",
    "    \"\"\"Similar as 'predict_rating' but predict for all movies for optimizing purposes. \n",
    "\n",
    "    Returns:\n",
    "        pd.DataFrame: The movies associated with their predictions (from 0 to 5)\n",
    "    \"\"\"\n",
    "\n",
    "    cluster = compute_cluster_group_of_user(ratings, kmeans, users_id)\n",
    "    cluster_ratings = clusters_ratings[clusters_ratings[\"cluster\"] == cluster]\n",
    "\n",
    "    # users of the cluster do not always have rated all the movies,\n",
    "    # we need to fill values with default one\n",
    "    lacking_predictions = default_predictions[~default_predictions[\"movieId\"].isin(cluster_ratings[\"movieId\"])]\n",
    "\n",
    "    return pd.concat([cluster_ratings[[\"movieId\", \"rating\"]], lacking_predictions])\n",
    "\n",
    "predict_all_ratings(ratings, kmeans, clusters_ratings, [1, 2], default_predictions)"
   ]
  },
  {
   "cell_type": "markdown",
   "metadata": {},
   "source": [
    "## 4. Recommendation Algorithm"
   ]
  },
  {
   "cell_type": "code",
   "execution_count": 60,
   "metadata": {},
   "outputs": [
    {
     "data": {
      "text/html": [
       "<div>\n",
       "<style scoped>\n",
       "    .dataframe tbody tr th:only-of-type {\n",
       "        vertical-align: middle;\n",
       "    }\n",
       "\n",
       "    .dataframe tbody tr th {\n",
       "        vertical-align: top;\n",
       "    }\n",
       "\n",
       "    .dataframe thead th {\n",
       "        text-align: right;\n",
       "    }\n",
       "</style>\n",
       "<table border=\"1\" class=\"dataframe\">\n",
       "  <thead>\n",
       "    <tr style=\"text-align: right;\">\n",
       "      <th></th>\n",
       "      <th>movieId</th>\n",
       "      <th>title</th>\n",
       "      <th>genres</th>\n",
       "    </tr>\n",
       "  </thead>\n",
       "  <tbody>\n",
       "    <tr>\n",
       "      <th>1051</th>\n",
       "      <td>1366</td>\n",
       "      <td>Crucible, The (1996)</td>\n",
       "      <td>Drama</td>\n",
       "    </tr>\n",
       "    <tr>\n",
       "      <th>1247</th>\n",
       "      <td>1658</td>\n",
       "      <td>Life Less Ordinary, A (1997)</td>\n",
       "      <td>Romance|Thriller</td>\n",
       "    </tr>\n",
       "    <tr>\n",
       "      <th>2279</th>\n",
       "      <td>3022</td>\n",
       "      <td>General, The (1926)</td>\n",
       "      <td>Comedy|War</td>\n",
       "    </tr>\n",
       "    <tr>\n",
       "      <th>4604</th>\n",
       "      <td>6857</td>\n",
       "      <td>Ninja Scroll (Jûbei ninpûchô) (1995)</td>\n",
       "      <td>Action|Adventure|Animation|Fantasy</td>\n",
       "    </tr>\n",
       "    <tr>\n",
       "      <th>8839</th>\n",
       "      <td>132333</td>\n",
       "      <td>Seve (2014)</td>\n",
       "      <td>Documentary|Drama</td>\n",
       "    </tr>\n",
       "  </tbody>\n",
       "</table>\n",
       "</div>"
      ],
      "text/plain": [
       "      movieId                                 title  \\\n",
       "1051     1366                  Crucible, The (1996)   \n",
       "1247     1658          Life Less Ordinary, A (1997)   \n",
       "2279     3022                   General, The (1926)   \n",
       "4604     6857  Ninja Scroll (Jûbei ninpûchô) (1995)   \n",
       "8839   132333                           Seve (2014)   \n",
       "\n",
       "                                  genres  \n",
       "1051                               Drama  \n",
       "1247                    Romance|Thriller  \n",
       "2279                          Comedy|War  \n",
       "4604  Action|Adventure|Animation|Fantasy  \n",
       "8839                   Documentary|Drama  "
      ]
     },
     "execution_count": 60,
     "metadata": {},
     "output_type": "execute_result"
    }
   ],
   "source": [
    "def suggest_movies(ratings : pd.DataFrame, kmeans, users_id : List[int], n : int) -> pd.DataFrame:\n",
    "    \"\"\"Suggest one movie that might be liked by the couple of users\n",
    "\n",
    "    Returns:\n",
    "        pd.DataFrame: The list of suggested movies  \n",
    "    \"\"\"\n",
    "\n",
    "    cluster = compute_cluster_group_of_user(ratings, kmeans, users_id)\n",
    "\n",
    "    # get the cluster ratings\n",
    "    cluster_ratings = clusters_ratings[clusters_ratings[\"cluster\"] == cluster]\n",
    "\n",
    "    suggestions = cluster_ratings.sort_values(by=\"rating\", ascending=False).iloc[:n,:][[\"movieId\", \"rating\"]]\n",
    "    suggestions = movies[movies[\"movieId\"].isin(suggestions[\"movieId\"])]\n",
    "\n",
    "    return suggestions\n",
    "\n",
    "suggest_movies(ratings, kmeans, [1, 2], 5)"
   ]
  },
  {
   "cell_type": "markdown",
   "metadata": {},
   "source": [
    "## 5. Evaluation"
   ]
  },
  {
   "cell_type": "markdown",
   "metadata": {},
   "source": [
    "### Split dataset"
   ]
  },
  {
   "cell_type": "code",
   "execution_count": 61,
   "metadata": {},
   "outputs": [],
   "source": [
    "r_train, r_test = sklearn.model_selection.train_test_split(ratings, test_size=0.2)"
   ]
  },
  {
   "cell_type": "markdown",
   "metadata": {},
   "source": [
    "### Regroup functions into a class"
   ]
  },
  {
   "cell_type": "code",
   "execution_count": 84,
   "metadata": {},
   "outputs": [],
   "source": [
    "class My_Kmeans_Recommender:\n",
    "\n",
    "    def __init__(self, movie_id_to_index : Dict[int, int]):\n",
    "        clusters.groupby(by=\"cluster\").count().rename(columns={\"userId\": \"count\"}).T\n",
    "        \n",
    "        self.movie_id_to_index = movie_id_to_index\n",
    "        self.kmeans = create_model()\n",
    "\n",
    "    def train(self, r_train : pd.DataFrame) -> None:\n",
    "\n",
    "        self.ratings = r_train\n",
    "        self.X_train = create_user_item_interaction_matrix_with_only_ratings_only(self.ratings, self.movie_id_to_index, n=100)\n",
    "        train_model(self.kmeans, self.X_train)\n",
    "\n",
    "        self.clusters_ratings_train = compute_clusters_ratings(compute_clusters(self.kmeans, self.X_train), self.ratings)\n",
    "        self.default_predictions = get_default_ratings_prediction(self.ratings)\n",
    "\n",
    "    def predict(self, movieId_and_userId : pd.DataFrame) -> pd.DataFrame:\n",
    "\n",
    "        users = get_users(movieId_and_userId)\n",
    "\n",
    "        # self.default_predictions has been computed with only train dataset,\n",
    "        # the default ratings lack ratings on movies that are only in the test dataset,\n",
    "        # fill by the average rating of all the movie for all the user \n",
    "        all_movies_without_default_predictions = movieId_and_userId[~movieId_and_userId[\"movieId\"].isin(self.default_predictions[\"movieId\"])][\"movieId\"].unique()\n",
    "        other_default_ratings = pd.DataFrame({\"movieId\" : all_movies_without_default_predictions, \"rating\": self.ratings[\"rating\"].mean()})\n",
    "        default_predictions = pd.concat([self.default_predictions, other_default_ratings])\n",
    "\n",
    "        # predict the ratings for all the users in the test dataset  \n",
    "        predictions = []\n",
    "        for user_id in tqdm(users, desc=\"Compute all predictions\"):\n",
    "            predictions_of_one_user = predict_all_ratings(self.ratings, self.kmeans, self.clusters_ratings_train, users_id=[user_id], default_predictions=default_predictions)\n",
    "            predictions_of_one_user[\"userId\"] = user_id\n",
    "\n",
    "            predictions.append(predictions_of_one_user)\n",
    "        \n",
    "        predictions = pd.concat(predictions)\n",
    "\n",
    "        # rename 'rating' by 'rating_pred' to avoid confusion\n",
    "        predictions.rename(columns={\"rating\": \"rating_pred\"}, inplace=True)\n",
    "\n",
    "        # filter all the predictions by those asked\n",
    "        predictions_merged = pd.merge(left=movieId_and_userId, right=predictions, on=[\"movieId\", \"userId\"], how=\"inner\", validate=\"1:1\")\n",
    "        assert predictions_merged.shape[0] == movieId_and_userId.shape[0]\n",
    "\n",
    "        return predictions_merged"
   ]
  },
  {
   "cell_type": "markdown",
   "metadata": {},
   "source": [
    "### Evaluate"
   ]
  },
  {
   "cell_type": "code",
   "execution_count": 85,
   "metadata": {},
   "outputs": [
    {
     "name": "stderr",
     "output_type": "stream",
     "text": [
      "Compute all predictions: 100%|██████████| 609/609 [00:02<00:00, 250.49it/s]\n"
     ]
    },
    {
     "data": {
      "text/html": [
       "<div>\n",
       "<style scoped>\n",
       "    .dataframe tbody tr th:only-of-type {\n",
       "        vertical-align: middle;\n",
       "    }\n",
       "\n",
       "    .dataframe tbody tr th {\n",
       "        vertical-align: top;\n",
       "    }\n",
       "\n",
       "    .dataframe thead th {\n",
       "        text-align: right;\n",
       "    }\n",
       "</style>\n",
       "<table border=\"1\" class=\"dataframe\">\n",
       "  <thead>\n",
       "    <tr style=\"text-align: right;\">\n",
       "      <th></th>\n",
       "      <th>movieId</th>\n",
       "      <th>userId</th>\n",
       "      <th>rating_pred</th>\n",
       "    </tr>\n",
       "  </thead>\n",
       "  <tbody>\n",
       "    <tr>\n",
       "      <th>0</th>\n",
       "      <td>1721</td>\n",
       "      <td>116</td>\n",
       "      <td>2.972222</td>\n",
       "    </tr>\n",
       "    <tr>\n",
       "      <th>1</th>\n",
       "      <td>3147</td>\n",
       "      <td>325</td>\n",
       "      <td>4.068627</td>\n",
       "    </tr>\n",
       "    <tr>\n",
       "      <th>2</th>\n",
       "      <td>2353</td>\n",
       "      <td>249</td>\n",
       "      <td>3.625000</td>\n",
       "    </tr>\n",
       "    <tr>\n",
       "      <th>3</th>\n",
       "      <td>6862</td>\n",
       "      <td>448</td>\n",
       "      <td>3.500000</td>\n",
       "    </tr>\n",
       "    <tr>\n",
       "      <th>4</th>\n",
       "      <td>290</td>\n",
       "      <td>437</td>\n",
       "      <td>3.722222</td>\n",
       "    </tr>\n",
       "    <tr>\n",
       "      <th>...</th>\n",
       "      <td>...</td>\n",
       "      <td>...</td>\n",
       "      <td>...</td>\n",
       "    </tr>\n",
       "    <tr>\n",
       "      <th>20163</th>\n",
       "      <td>271</td>\n",
       "      <td>411</td>\n",
       "      <td>4.000000</td>\n",
       "    </tr>\n",
       "    <tr>\n",
       "      <th>20164</th>\n",
       "      <td>2686</td>\n",
       "      <td>383</td>\n",
       "      <td>4.000000</td>\n",
       "    </tr>\n",
       "    <tr>\n",
       "      <th>20165</th>\n",
       "      <td>2490</td>\n",
       "      <td>586</td>\n",
       "      <td>2.333333</td>\n",
       "    </tr>\n",
       "    <tr>\n",
       "      <th>20166</th>\n",
       "      <td>1888</td>\n",
       "      <td>19</td>\n",
       "      <td>3.000000</td>\n",
       "    </tr>\n",
       "    <tr>\n",
       "      <th>20167</th>\n",
       "      <td>923</td>\n",
       "      <td>570</td>\n",
       "      <td>4.142857</td>\n",
       "    </tr>\n",
       "  </tbody>\n",
       "</table>\n",
       "<p>20168 rows × 3 columns</p>\n",
       "</div>"
      ],
      "text/plain": [
       "       movieId  userId  rating_pred\n",
       "0         1721     116     2.972222\n",
       "1         3147     325     4.068627\n",
       "2         2353     249     3.625000\n",
       "3         6862     448     3.500000\n",
       "4          290     437     3.722222\n",
       "...        ...     ...          ...\n",
       "20163      271     411     4.000000\n",
       "20164     2686     383     4.000000\n",
       "20165     2490     586     2.333333\n",
       "20166     1888      19     3.000000\n",
       "20167      923     570     4.142857\n",
       "\n",
       "[20168 rows x 3 columns]"
      ]
     },
     "execution_count": 85,
     "metadata": {},
     "output_type": "execute_result"
    }
   ],
   "source": [
    "model = My_Kmeans_Recommender(movie_id_to_index)\n",
    "model.train(r_train)\n",
    "predictions = model.predict(r_test[[\"movieId\", \"userId\"]])\n",
    "predictions"
   ]
  },
  {
   "cell_type": "code",
   "execution_count": 86,
   "metadata": {},
   "outputs": [
    {
     "name": "stdout",
     "output_type": "stream",
     "text": [
      "mean_square = 1.023, r2_score = 0.066\n"
     ]
    }
   ],
   "source": [
    "def evaluate(y_true, y_pred):\n",
    "    r2_score = sklearn.metrics.r2_score(y_true, y_pred)\n",
    "    mean_square = sklearn.metrics.mean_squared_error(y_true, y_pred)\n",
    "    print(f\"mean_square = {mean_square:0.3f}, r2_score = {r2_score:0.3f}\")\n",
    "\n",
    "evaluate(y_true=r_test[\"rating\"], y_pred=predictions[\"rating_pred\"])"
   ]
  },
  {
   "cell_type": "markdown",
   "metadata": {},
   "source": [
    "The r2 score is too close from 0 meaning that our model is not way better that a dummy recommender..."
   ]
  },
  {
   "cell_type": "markdown",
   "metadata": {},
   "source": [
    "### Evaluate dummy recommender"
   ]
  },
  {
   "cell_type": "code",
   "execution_count": 77,
   "metadata": {},
   "outputs": [
    {
     "name": "stdout",
     "output_type": "stream",
     "text": [
      "mean_square = 1.096, r2_score = -0.000\n"
     ]
    }
   ],
   "source": [
    "all_mean_predictions = [r_train[\"rating\"].mean()] * r_test.shape[0]\n",
    "evaluate(y_true=r_test[\"rating\"], y_pred=all_mean_predictions)"
   ]
  }
 ],
 "metadata": {
  "kernelspec": {
   "display_name": ".venv",
   "language": "python",
   "name": "python3"
  },
  "language_info": {
   "codemirror_mode": {
    "name": "ipython",
    "version": 3
   },
   "file_extension": ".py",
   "mimetype": "text/x-python",
   "name": "python",
   "nbconvert_exporter": "python",
   "pygments_lexer": "ipython3",
   "version": "3.10.14"
  }
 },
 "nbformat": 4,
 "nbformat_minor": 2
}
